{
  "nbformat": 4,
  "nbformat_minor": 0,
  "metadata": {
    "colab": {
      "provenance": [],
      "authorship_tag": "ABX9TyNXAyeVBtolbAoBU1l+NjcF",
      "include_colab_link": true
    },
    "kernelspec": {
      "name": "python3",
      "display_name": "Python 3"
    },
    "language_info": {
      "name": "python"
    }
  },
  "cells": [
    {
      "cell_type": "markdown",
      "metadata": {
        "id": "view-in-github",
        "colab_type": "text"
      },
      "source": [
        "<a href=\"https://colab.research.google.com/github/MariaAsif123/Python-Tasks/blob/main/WeatherApp.ipynb\" target=\"_parent\"><img src=\"https://colab.research.google.com/assets/colab-badge.svg\" alt=\"Open In Colab\"/></a>"
      ]
    },
    {
      "cell_type": "code",
      "execution_count": null,
      "metadata": {
        "id": "_WBmBfb7gZjt"
      },
      "outputs": [],
      "source": [
        "!pip install requests"
      ]
    },
    {
      "cell_type": "code",
      "source": [
        "import requests"
      ],
      "metadata": {
        "id": "oidKw62ziFg2"
      },
      "execution_count": null,
      "outputs": []
    },
    {
      "cell_type": "code",
      "source": [
        "def get_weather(api_key, location):\n",
        "    url = f\"http://api.openweathermap.org/data/2.5/weather?q={location}&appid={api_key}&units=metric\"\n",
        "    response = requests.get(url)\n",
        "    data = response.json()\n",
        "\n",
        "    if response.status_code == 200:\n",
        "        weather_info = {\n",
        "            \"Temperature\": data[\"main\"][\"temp\"],\n",
        "            \"Humidity\": data[\"main\"][\"humidity\"],\n",
        "            \"Weather\": data[\"weather\"][0][\"description\"]\n",
        "        }\n",
        "        return weather_info\n",
        "    else:\n",
        "        print(\"Error:\", data[\"message\"])\n",
        "        return None\n"
      ],
      "metadata": {
        "id": "CeAyZvqliTD9"
      },
      "execution_count": null,
      "outputs": []
    },
    {
      "cell_type": "code",
      "source": [
        "def main():\n",
        "    api_key = \"10bb9c940dd1ab5650caf519991b7d79\"\n",
        "    location = input(\"Enter city name or ZIP code: \")\n",
        "\n",
        "    weather = get_weather(api_key, location)\n",
        "    if weather:\n",
        "        print(\"Current Weather:\")\n",
        "        for key, value in weather.items():\n",
        "            print(f\"{key}: {value}\")\n",
        "    else:\n",
        "        print(\"Error: Unable to fetch weather data. Please check your location or API key.\")\n",
        "\n",
        "if __name__ == \"__main__\":\n",
        "    main()\n"
      ],
      "metadata": {
        "id": "g5pqNmXiiYlH"
      },
      "execution_count": null,
      "outputs": []
    }
  ]
}