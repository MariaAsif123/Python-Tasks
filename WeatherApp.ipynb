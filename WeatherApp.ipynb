{
  "nbformat": 4,
  "nbformat_minor": 0,
  "metadata": {
    "colab": {
      "provenance": [],
      "authorship_tag": "ABX9TyNXAyeVBtolbAoBU1l+NjcF",
      "include_colab_link": true
    },
    "kernelspec": {
      "name": "python3",
      "display_name": "Python 3"
    },
    "language_info": {
      "name": "python"
    }
  },
  "cells": [
    {
      "cell_type": "markdown",
      "metadata": {
        "id": "view-in-github",
        "colab_type": "text"
      },
      "source": [
        "<a href=\"https://colab.research.google.com/github/MariaAsif123/Python-Tasks/blob/main/WeatherApp.ipynb\" target=\"_parent\"><img src=\"https://colab.research.google.com/assets/colab-badge.svg\" alt=\"Open In Colab\"/></a>"
      ]
    },
    {
      "cell_type": "code",
      "execution_count": null,
      "metadata": {
        "colab": {
          "base_uri": "https://localhost:8080/"
        },
        "id": "_WBmBfb7gZjt",
        "outputId": "5ac9fd84-82f1-496a-d9fc-6a718d3e0eaf"
      },
      "outputs": [
        {
          "output_type": "stream",
          "name": "stdout",
          "text": [
            "Requirement already satisfied: requests in /usr/local/lib/python3.10/dist-packages (2.31.0)\n",
            "Requirement already satisfied: charset-normalizer<4,>=2 in /usr/local/lib/python3.10/dist-packages (from requests) (3.3.2)\n",
            "Requirement already satisfied: idna<4,>=2.5 in /usr/local/lib/python3.10/dist-packages (from requests) (3.6)\n",
            "Requirement already satisfied: urllib3<3,>=1.21.1 in /usr/local/lib/python3.10/dist-packages (from requests) (2.0.7)\n",
            "Requirement already satisfied: certifi>=2017.4.17 in /usr/local/lib/python3.10/dist-packages (from requests) (2024.2.2)\n"
          ]
        }
      ],
      "source": [
        "!pip install requests"
      ]
    },
    {
      "cell_type": "code",
      "source": [
        "import requests"
      ],
      "metadata": {
        "id": "oidKw62ziFg2"
      },
      "execution_count": null,
      "outputs": []
    },
    {
      "cell_type": "code",
      "source": [
        "def get_weather(api_key, location):\n",
        "    url = f\"http://api.openweathermap.org/data/2.5/weather?q={location}&appid={api_key}&units=metric\"\n",
        "    response = requests.get(url)\n",
        "    data = response.json()\n",
        "\n",
        "    if response.status_code == 200:\n",
        "        weather_info = {\n",
        "            \"Temperature\": data[\"main\"][\"temp\"],\n",
        "            \"Humidity\": data[\"main\"][\"humidity\"],\n",
        "            \"Weather\": data[\"weather\"][0][\"description\"]\n",
        "        }\n",
        "        return weather_info\n",
        "    else:\n",
        "        print(\"Error:\", data[\"message\"])\n",
        "        return None\n"
      ],
      "metadata": {
        "id": "CeAyZvqliTD9"
      },
      "execution_count": null,
      "outputs": []
    },
    {
      "cell_type": "code",
      "source": [
        "def main():\n",
        "    api_key = \"10bb9c940dd1ab5650caf519991b7d79\"\n",
        "    location = input(\"Enter city name or ZIP code: \")\n",
        "\n",
        "    weather = get_weather(api_key, location)\n",
        "    if weather:\n",
        "        print(\"Current Weather:\")\n",
        "        for key, value in weather.items():\n",
        "            print(f\"{key}: {value}\")\n",
        "    else:\n",
        "        print(\"Error: Unable to fetch weather data. Please check your location or API key.\")\n",
        "\n",
        "if __name__ == \"__main__\":\n",
        "    main()\n"
      ],
      "metadata": {
        "colab": {
          "base_uri": "https://localhost:8080/"
        },
        "id": "g5pqNmXiiYlH",
        "outputId": "0bd9df64-e7a0-4d5c-fb79-885bfa2a7946"
      },
      "execution_count": null,
      "outputs": [
        {
          "output_type": "stream",
          "name": "stdout",
          "text": [
            "Enter city name or ZIP code: melbourne\n",
            "Current Weather:\n",
            "Temperature: 12.42\n",
            "Humidity: 84\n",
            "Weather: clear sky\n"
          ]
        }
      ]
    }
  ]
}