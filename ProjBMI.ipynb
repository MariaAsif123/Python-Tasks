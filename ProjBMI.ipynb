{
  "nbformat": 4,
  "nbformat_minor": 0,
  "metadata": {
    "colab": {
      "provenance": [],
      "authorship_tag": "ABX9TyMHDPHeQjbJKcc3s7cmW+Cn",
      "include_colab_link": true
    },
    "kernelspec": {
      "name": "python3",
      "display_name": "Python 3"
    },
    "language_info": {
      "name": "python"
    }
  },
  "cells": [
    {
      "cell_type": "markdown",
      "metadata": {
        "id": "view-in-github",
        "colab_type": "text"
      },
      "source": [
        "<a href=\"https://colab.research.google.com/github/MariaAsif123/Python-Tasks/blob/main/ProjBMI.ipynb\" target=\"_parent\"><img src=\"https://colab.research.google.com/assets/colab-badge.svg\" alt=\"Open In Colab\"/></a>"
      ]
    },
    {
      "cell_type": "code",
      "execution_count": null,
      "metadata": {
        "id": "EA6NCmgjiMyx"
      },
      "outputs": [],
      "source": [
        "#Project Title: BMI Calculator\n"
      ]
    },
    {
      "cell_type": "code",
      "source": [
        "#Getting the individual's input, their weight (in kilograms) and their height (in meters)\n",
        "weight = float(input('Please Enter your Weight (in kilograms):'))\n",
        "height = float (input('Please Enter your height (in meters):'))"
      ],
      "metadata": {
        "colab": {
          "base_uri": "https://localhost:8080/"
        },
        "id": "i_GsjqdujVcF",
        "outputId": "a8c94482-0a8c-4132-af99-b22313cb05b0"
      },
      "execution_count": null,
      "outputs": [
        {
          "name": "stdout",
          "output_type": "stream",
          "text": [
            "Please Enter your Weight (in kilograms):54\n",
            "Please Enter your height (in meters):1.62\n"
          ]
        }
      ]
    },
    {
      "cell_type": "code",
      "source": [
        "#Caalculate individuals BMI\n",
        "h2 = height *height\n",
        "w = weight\n",
        "BMI = (w/ h2)\n"
      ],
      "metadata": {
        "id": "4dGKwJbgkzGr"
      },
      "execution_count": null,
      "outputs": []
    },
    {
      "cell_type": "code",
      "source": [
        "#Show the individual BMI\n",
        "print ('Your Body Mass Index (BMI) is: ', BMI)"
      ],
      "metadata": {
        "colab": {
          "base_uri": "https://localhost:8080/"
        },
        "id": "fyXUUbmHWt5s",
        "outputId": "9870d7ce-ab3d-4761-f8c9-6d33af427143"
      },
      "execution_count": null,
      "outputs": [
        {
          "output_type": "stream",
          "name": "stdout",
          "text": [
            "Your Body Mass Index (BMI) is:  20.576131687242793\n"
          ]
        }
      ]
    },
    {
      "cell_type": "code",
      "source": [
        "#Printing the result based on the commonly used BMI ranges\n",
        "if BMI >0:\n",
        "  if BMI < 16:\n",
        "        print(' You are  severly underweight')\n",
        "  elif BMI < 17:\n",
        "        print(' You are moderately underweight')\n",
        "  elif BMI < 18.5:\n",
        "        print('You are Underweight')\n",
        "  elif BMI < 25:\n",
        "        print('Normal weight. You are healthy')\n",
        "  elif BMI < 30:\n",
        "        print('You are Overweight')\n",
        "  elif BMI < 35:\n",
        "        print('You are moderately Obese')\n",
        "  elif BMI <= 40:\n",
        "        print('You are severly Obese')\n",
        "  elif BMI > 40:\n",
        "        print('You are morbidly Obese')\n",
        "  else:\n",
        "    print('The information that you put is incorrect')\n"
      ],
      "metadata": {
        "colab": {
          "base_uri": "https://localhost:8080/"
        },
        "id": "rxFE3kWPXKAL",
        "outputId": "d083d211-e245-4525-a917-e284cad484e4"
      },
      "execution_count": null,
      "outputs": [
        {
          "output_type": "stream",
          "name": "stdout",
          "text": [
            "Normal weight. You are healthy\n"
          ]
        }
      ]
    }
  ]
}