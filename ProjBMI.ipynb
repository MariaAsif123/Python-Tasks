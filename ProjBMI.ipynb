{
  "nbformat": 4,
  "nbformat_minor": 0,
  "metadata": {
    "colab": {
      "provenance": [],
      "authorship_tag": "ABX9TyMHDPHeQjbJKcc3s7cmW+Cn",
      "include_colab_link": true
    },
    "kernelspec": {
      "name": "python3",
      "display_name": "Python 3"
    },
    "language_info": {
      "name": "python"
    }
  },
  "cells": [
    {
      "cell_type": "markdown",
      "metadata": {
        "id": "view-in-github",
        "colab_type": "text"
      },
      "source": [
        "<a href=\"https://colab.research.google.com/github/MariaAsif123/Python-Tasks/blob/main/ProjBMI.ipynb\" target=\"_parent\"><img src=\"https://colab.research.google.com/assets/colab-badge.svg\" alt=\"Open In Colab\"/></a>"
      ]
    },
    {
      "cell_type": "code",
      "execution_count": null,
      "metadata": {
        "id": "EA6NCmgjiMyx"
      },
      "outputs": [],
      "source": [
        "#Project Title: BMI Calculator\n"
      ]
    },
    {
      "cell_type": "code",
      "source": [
        "#Getting the individual's input, their weight (in kilograms) and their height (in meters)\n",
        "weight = float(input('Please Enter your Weight (in kilograms):'))\n",
        "height = float (input('Please Enter your height (in meters):'))"
      ],
      "metadata": {
        "id": "i_GsjqdujVcF"
      },
      "execution_count": null,
      "outputs": []
    },
    {
      "cell_type": "code",
      "source": [
        "#Caalculate individuals BMI\n",
        "h2 = height *height\n",
        "w = weight\n",
        "BMI = (w/ h2)\n"
      ],
      "metadata": {
        "id": "4dGKwJbgkzGr"
      },
      "execution_count": null,
      "outputs": []
    },
    {
      "cell_type": "code",
      "source": [
        "#Show the individual BMI\n",
        "print ('Your Body Mass Index (BMI) is: ', BMI)"
      ],
      "metadata": {
        "id": "fyXUUbmHWt5s"
      },
      "execution_count": null,
      "outputs": []
    },
    {
      "cell_type": "code",
      "source": [
        "#Printing the result based on the commonly used BMI ranges\n",
        "if BMI >0:\n",
        "  if BMI < 16:\n",
        "        print(' You are  severly underweight')\n",
        "  elif BMI < 17:\n",
        "        print(' You are moderately underweight')\n",
        "  elif BMI < 18.5:\n",
        "        print('You are Underweight')\n",
        "  elif BMI < 25:\n",
        "        print('Normal weight. You are healthy')\n",
        "  elif BMI < 30:\n",
        "        print('You are Overweight')\n",
        "  elif BMI < 35:\n",
        "        print('You are moderately Obese')\n",
        "  elif BMI <= 40:\n",
        "        print('You are severly Obese')\n",
        "  elif BMI > 40:\n",
        "        print('You are morbidly Obese')\n",
        "  else:\n",
        "    print('The information that you put is incorrect')\n"
      ],
      "metadata": {
        "id": "rxFE3kWPXKAL"
      },
      "execution_count": null,
      "outputs": []
    }
  ]
}