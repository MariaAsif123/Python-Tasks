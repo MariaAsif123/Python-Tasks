{
  "nbformat": 4,
  "nbformat_minor": 0,
  "metadata": {
    "colab": {
      "provenance": [],
      "authorship_tag": "ABX9TyOVEwAGB/IuTZB8UFCVkog/",
      "include_colab_link": true
    },
    "kernelspec": {
      "name": "python3",
      "display_name": "Python 3"
    },
    "language_info": {
      "name": "python"
    }
  },
  "cells": [
    {
      "cell_type": "markdown",
      "metadata": {
        "id": "view-in-github",
        "colab_type": "text"
      },
      "source": [
        "<a href=\"https://colab.research.google.com/github/MariaAsif123/Python-Tasks/blob/main/PwdGen.ipynb\" target=\"_parent\"><img src=\"https://colab.research.google.com/assets/colab-badge.svg\" alt=\"Open In Colab\"/></a>"
      ]
    },
    {
      "cell_type": "code",
      "execution_count": null,
      "metadata": {
        "id": "yPPFJTp7uhMl"
      },
      "outputs": [],
      "source": [
        "import random\n",
        "import string"
      ]
    },
    {
      "cell_type": "code",
      "source": [
        "def generate_password(length, include_letters=True, include_numbers=True, include_symbols=True):\n",
        "    characters = ''\n",
        "    if include_letters:\n",
        "        characters += string.ascii_letters\n",
        "    if include_numbers:\n",
        "        characters += string.digits\n",
        "    if include_symbols:\n",
        "        characters += string.punctuation\n",
        "\n",
        "    if not characters:\n",
        "        print(\"Error: No character set selected.\")\n",
        "        return None\n",
        "\n",
        "    password = ''.join(random.choice(characters) for _ in range(length))\n",
        "    return password"
      ],
      "metadata": {
        "id": "AAL11pn2vQ-A"
      },
      "execution_count": null,
      "outputs": []
    },
    {
      "cell_type": "code",
      "source": [
        "def main():\n",
        "    length = int(input(\"Enter desired password length: \"))\n",
        "    include_letters = input(\"Include letters? (y/n): \").lower() == 'y'\n",
        "    include_numbers = input(\"Include numbers? (y/n): \").lower() == 'y'\n",
        "    include_symbols = input(\"Include symbols? (y/n): \").lower() == 'y'\n",
        "\n",
        "    password = generate_password(length, include_letters, include_numbers, include_symbols)\n",
        "    if password:\n",
        "        print(\"Generated Password:\", password)\n",
        "\n",
        "if __name__ == \"__main__\":\n",
        "    main()"
      ],
      "metadata": {
        "id": "91SUTndSvVni"
      },
      "execution_count": null,
      "outputs": []
    }
  ]
}